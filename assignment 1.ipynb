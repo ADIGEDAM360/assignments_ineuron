{
 "cells": [
  {
   "cell_type": "raw",
   "id": "c7ee6e0b-4b24-4290-adfe-815afff2cc91",
   "metadata": {},
   "source": [
    "1. In the below elements which of them are values or an expression? eg:- values can be integers or string and expressions will be mathematical operators.\n",
    "*     -   expression \n",
    "'hello'   - strings \n",
    "-87.8     - value (integer)\n",
    "-            - expression \n",
    "/             - expression\n",
    "+\t          - expression\n",
    "6           - value (integer)\n"
   ]
  },
  {
   "cell_type": "markdown",
   "id": "a4fb6c7a-776c-4287-b5dc-77ef001fdf3b",
   "metadata": {},
   "source": [
    "\n",
    "2. What is the difference between string and variable?\n",
    "\n",
    "The variable is used to store data of any datatype whereas the string is a sequential group of characters \n"
   ]
  },
  {
   "cell_type": "code",
   "execution_count": 1,
   "id": "9226336a-ce9b-45a1-bc9b-ef2022bcb945",
   "metadata": {},
   "outputs": [],
   "source": [
    "A=  'Aditya'\n",
    "#A = variable \n",
    "#'Aditya'= string\n"
   ]
  },
  {
   "cell_type": "raw",
   "id": "d31a47ef-9e5a-498a-a602-56f04ec80f15",
   "metadata": {},
   "source": [
    "3. Describe three different data types.\n",
    "Integers  = +ve and -ve whole numbers  e.g  -34  \n",
    "Float     =  real number with the decimals    eg. 2.4\n",
    "String    = string is a sequential group of characters eg.     'Aditya'\n",
    "\n",
    "List      =  list is an ordered collection of any data types or items   e.g  = [1,32,3,4,4,’string ’]\n",
    "\n",
    "Tuples    =  tuple is an immutable ordered collection of any data types or items \n",
    "\n",
    "Set       = dictionary is an unordered collection of any data types or items where every element  is unique\n",
    "\n",
    "Dictionary = dictionary is an unordered collection of any data types or items, where data is stored in key-value pairs.\n"
   ]
  },
  {
   "cell_type": "markdown",
   "id": "94c018c5-dbd5-4482-929f-1378d98217f4",
   "metadata": {},
   "source": [
    "4. What is an expression made up of? What do all expressions do?\n",
    "\n",
    "  An expression is made up of operators, identifiers, and keywords, they reduce to produce   at least one value\n"
   ]
  },
  {
   "cell_type": "code",
   "execution_count": null,
   "id": "98361f79-45c3-46a6-9cd4-d55bb81324bf",
   "metadata": {},
   "outputs": [],
   "source": [
    " Eg  if my name == 'ADITYA':\n",
    "          MY_NAME = 'ADI'\n"
   ]
  },
  {
   "cell_type": "markdown",
   "id": "1504c5b3-7ee0-479e-9405-58864dd40ae1",
   "metadata": {},
   "source": [
    "5. This assignment statements, like spam = 10. What is the difference between an expression and a statement?\n",
    "\n",
    "\n",
    "A statement in Python is a logical instruction that the Python interpreter can read and execute. In general, a statement performs some action or action\n",
    "  An expression is made up of operators, identifiers, and keywords, they reduce to produce   at least one value.\n"
   ]
  },
  {
   "cell_type": "markdown",
   "id": "162e4711-7b8b-468b-8882-e4e8e5a0d3e7",
   "metadata": {},
   "source": [
    "spam = 10 is  statement  "
   ]
  },
  {
   "cell_type": "markdown",
   "id": "c08baac0-4173-4305-9946-5f2698ba8a1d",
   "metadata": {},
   "source": [
    "6. After running the following code, what does the variable bacon contain?\n",
    "\n"
   ]
  },
  {
   "cell_type": "code",
   "execution_count": 3,
   "id": "726b7b10-6315-486e-9c07-5341589920df",
   "metadata": {},
   "outputs": [
    {
     "data": {
      "text/plain": [
       "23"
      ]
     },
     "execution_count": 3,
     "metadata": {},
     "output_type": "execute_result"
    }
   ],
   "source": [
    "bacon = 22\n",
    "bacon + 1"
   ]
  },
  {
   "cell_type": "markdown",
   "id": "3bb52420-f473-4c0f-bd31-afc475a52143",
   "metadata": {},
   "source": [
    "7. What should the values of the following two terms be?"
   ]
  },
  {
   "cell_type": "code",
   "execution_count": 6,
   "id": "5c5d4fb2-a6f6-43ad-8129-e839d3d0b907",
   "metadata": {},
   "outputs": [
    {
     "data": {
      "text/plain": [
       "'spamspamspam'"
      ]
     },
     "execution_count": 6,
     "metadata": {},
     "output_type": "execute_result"
    }
   ],
   "source": [
    "'spam' + 'spamspam' "
   ]
  },
  {
   "cell_type": "code",
   "execution_count": 7,
   "id": "524e2b07-f1bb-4c65-bdd3-c19083828330",
   "metadata": {},
   "outputs": [
    {
     "data": {
      "text/plain": [
       "'spamspamspam'"
      ]
     },
     "execution_count": 7,
     "metadata": {},
     "output_type": "execute_result"
    }
   ],
   "source": [
    "'spam' * 3                  "
   ]
  },
  {
   "cell_type": "markdown",
   "id": "8b992cd4-c1c2-46f9-ad51-48ddff8c403b",
   "metadata": {},
   "source": [
    "8. Why is eggs a valid variable name while 100 is invalid?\n",
    "     100 is integer (value) it cannot be the name of the variable here as egg fits in naming convention for identifies \n"
   ]
  },
  {
   "cell_type": "markdown",
   "id": "a01f1544-f9e1-4195-aa54-72049cd8b716",
   "metadata": {},
   "source": [
    "9. What three functions can be used to get the integer, floating-point number, or string version of a value?\n",
    "\n",
    "\n"
   ]
  },
  {
   "cell_type": "code",
   "execution_count": 13,
   "id": "3eca4328-4a95-4148-a2ad-9ca15f92e1f6",
   "metadata": {},
   "outputs": [
    {
     "data": {
      "text/plain": [
       "1"
      ]
     },
     "execution_count": 13,
     "metadata": {},
     "output_type": "execute_result"
    }
   ],
   "source": [
    "int(\"1\")"
   ]
  },
  {
   "cell_type": "code",
   "execution_count": 14,
   "id": "5bf23515-3822-48d3-93e5-efeb6f226c3c",
   "metadata": {},
   "outputs": [
    {
     "data": {
      "text/plain": [
       "1.0"
      ]
     },
     "execution_count": 14,
     "metadata": {},
     "output_type": "execute_result"
    }
   ],
   "source": [
    "float(\"1\")"
   ]
  },
  {
   "cell_type": "code",
   "execution_count": 15,
   "id": "afad30d0-2771-4538-a628-39e0e2b54fef",
   "metadata": {},
   "outputs": [
    {
     "data": {
      "text/plain": [
       "'1'"
      ]
     },
     "execution_count": 15,
     "metadata": {},
     "output_type": "execute_result"
    }
   ],
   "source": [
    "str(\"1\")"
   ]
  },
  {
   "cell_type": "markdown",
   "id": "ca77fd17-73a5-4f0e-b814-86a268ac5216",
   "metadata": {},
   "source": [
    "10. Why does this expression cause an error? How can you fix it?\n",
    "'I have eaten ' + 99 + ' burritos.'\n",
    "\n",
    "\n",
    "The string cannot be concatenated with integer(DIFFERENT DATA TYPES) to fix this  \n",
    "\n"
   ]
  },
  {
   "cell_type": "code",
   "execution_count": 18,
   "id": "5838cd54-50a7-4375-9dca-e42a04363bc6",
   "metadata": {},
   "outputs": [
    {
     "data": {
      "text/plain": [
       "'I have eaten 99 burritos.'"
      ]
     },
     "execution_count": 18,
     "metadata": {},
     "output_type": "execute_result"
    }
   ],
   "source": [
    "'I have eaten ' + '99' + ' burritos.'"
   ]
  },
  {
   "cell_type": "code",
   "execution_count": null,
   "id": "00b1a9a0-57f0-4b07-bd0d-78ab956cc08f",
   "metadata": {},
   "outputs": [],
   "source": []
  }
 ],
 "metadata": {
  "kernelspec": {
   "display_name": "Python 3 (ipykernel)",
   "language": "python",
   "name": "python3"
  },
  "language_info": {
   "codemirror_mode": {
    "name": "ipython",
    "version": 3
   },
   "file_extension": ".py",
   "mimetype": "text/x-python",
   "name": "python",
   "nbconvert_exporter": "python",
   "pygments_lexer": "ipython3",
   "version": "3.10.9"
  }
 },
 "nbformat": 4,
 "nbformat_minor": 5
}
