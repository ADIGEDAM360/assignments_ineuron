{
 "cells": [
  {
   "cell_type": "code",
   "execution_count": null,
   "id": "6e61ab6d-23c0-4158-a978-972fd2c4edb6",
   "metadata": {},
   "outputs": [
    {
     "name": "stdin",
     "output_type": "stream",
     "text": [
      "variable 1 1\n",
      "variable 2 1\n"
     ]
    },
    {
     "name": "stdout",
     "output_type": "stream",
     "text": [
      "addition : 2\n",
      "substraction : 0\n",
      "multiplication  : 1\n",
      "division  : 1.0\n"
     ]
    }
   ],
   "source": [
    "a = int(input(\"variable 1\"))\n",
    "b = int(input(\"variable 2\"))\n",
    "print(\"addition :\" ,a+b)\n",
    "print(\"substraction :\" ,a-b)\n",
    "print(\"multiplication  :\" ,a*b)\n",
    "print(\"division  :\" ,a/b)\n",
    "\n"
   ]
  },
  {
   "cell_type": "markdown",
   "id": "c3dafe0c-8396-4bae-865d-ea474d7a32c1",
   "metadata": {},
   "source": [
    "Q.2. What is the difference between the following operators:\n",
    "(i) ‘/’ & ‘//’\n",
    "(ii) ‘**’ & ‘^’"
   ]
  },
  {
   "cell_type": "code",
   "execution_count": 7,
   "id": "c6cf67af-ad36-4d3f-961f-f7875ffee552",
   "metadata": {},
   "outputs": [],
   "source": [
    "a = 21\n",
    "b = 300"
   ]
  },
  {
   "cell_type": "code",
   "execution_count": 8,
   "id": "332006b0-ab49-4cf8-8e8a-814f6149ca60",
   "metadata": {},
   "outputs": [
    {
     "data": {
      "text/plain": [
       "0.07"
      ]
     },
     "execution_count": 8,
     "metadata": {},
     "output_type": "execute_result"
    }
   ],
   "source": [
    "a/b   # this is true division \n",
    "# do not truncates the remainder."
   ]
  },
  {
   "cell_type": "code",
   "execution_count": 9,
   "id": "e5c7773f-365e-42e3-9477-304e1a65e766",
   "metadata": {},
   "outputs": [
    {
     "data": {
      "text/plain": [
       "0"
      ]
     },
     "execution_count": 9,
     "metadata": {},
     "output_type": "execute_result"
    }
   ],
   "source": [
    "a//b # this is floor division \n",
    "# truncates the remainder ."
   ]
  },
  {
   "cell_type": "code",
   "execution_count": 11,
   "id": "f2843060-aa94-4be1-bc96-f39d910fc55e",
   "metadata": {},
   "outputs": [],
   "source": [
    "a = 3 \n",
    "b=  4"
   ]
  },
  {
   "cell_type": "code",
   "execution_count": 12,
   "id": "ba5e20f4-8e4c-4248-a1ea-2b737170f4a9",
   "metadata": {},
   "outputs": [
    {
     "data": {
      "text/plain": [
       "81"
      ]
     },
     "execution_count": 12,
     "metadata": {},
     "output_type": "execute_result"
    }
   ],
   "source": [
    "a**b # power operator"
   ]
  },
  {
   "cell_type": "code",
   "execution_count": 14,
   "id": "04a133cd-3b1b-4add-949e-f774da86518b",
   "metadata": {},
   "outputs": [
    {
     "data": {
      "text/plain": [
       "'0b11'"
      ]
     },
     "execution_count": 14,
     "metadata": {},
     "output_type": "execute_result"
    }
   ],
   "source": [
    "a^b  # bit operator \n",
    "bin(a) "
   ]
  },
  {
   "cell_type": "code",
   "execution_count": 15,
   "id": "3b09aaa3-dd38-431e-a73f-efd584475c9e",
   "metadata": {},
   "outputs": [
    {
     "data": {
      "text/plain": [
       "'0b100'"
      ]
     },
     "execution_count": 15,
     "metadata": {},
     "output_type": "execute_result"
    }
   ],
   "source": [
    "bin(b)"
   ]
  },
  {
   "cell_type": "markdown",
   "id": "2ed2a4ab-4103-4b45-a8f4-26c21a5f332f",
   "metadata": {},
   "source": [
    "Q.3. List the logical operators."
   ]
  },
  {
   "cell_type": "code",
   "execution_count": 20,
   "id": "c191b51a-0640-4a9d-8b73-95a31d7a6bee",
   "metadata": {},
   "outputs": [],
   "source": [
    "x= 10"
   ]
  },
  {
   "cell_type": "code",
   "execution_count": 21,
   "id": "8200d993-e468-44ca-b55b-6aff0c7e5e2f",
   "metadata": {},
   "outputs": [],
   "source": [
    "y =10"
   ]
  },
  {
   "cell_type": "code",
   "execution_count": 22,
   "id": "7142fde8-f85c-4159-8046-ad3692049c9d",
   "metadata": {},
   "outputs": [
    {
     "data": {
      "text/plain": [
       "False"
      ]
     },
     "execution_count": 22,
     "metadata": {},
     "output_type": "execute_result"
    }
   ],
   "source": [
    "x or y\n"
   ]
  },
  {
   "cell_type": "code",
   "execution_count": 23,
   "id": "8a7b29c5-6035-46f7-bea0-a6388ed6cd48",
   "metadata": {},
   "outputs": [
    {
     "data": {
      "text/plain": [
       "10"
      ]
     },
     "execution_count": 23,
     "metadata": {},
     "output_type": "execute_result"
    }
   ],
   "source": [
    "x and y"
   ]
  },
  {
   "cell_type": "code",
   "execution_count": 24,
   "id": "54116a05-a6be-4a97-949b-c675f2c67db4",
   "metadata": {},
   "outputs": [
    {
     "data": {
      "text/plain": [
       "False"
      ]
     },
     "execution_count": 24,
     "metadata": {},
     "output_type": "execute_result"
    }
   ],
   "source": [
    "\n",
    "not x"
   ]
  },
  {
   "cell_type": "markdown",
   "id": "02a0e435-437a-4332-afb1-28ae1dea3128",
   "metadata": {},
   "source": [
    "Q Explain right shift operator and left shift operator with examples."
   ]
  },
  {
   "cell_type": "code",
   "execution_count": 25,
   "id": "3acf0dd7-3b35-41f5-bbe4-97a3f5ca10c8",
   "metadata": {},
   "outputs": [],
   "source": [
    "x=1 "
   ]
  },
  {
   "cell_type": "code",
   "execution_count": 28,
   "id": "d0c86a5a-d37a-4d98-8243-66cf2e3644c4",
   "metadata": {},
   "outputs": [
    {
     "data": {
      "text/plain": [
       "4"
      ]
     },
     "execution_count": 28,
     "metadata": {},
     "output_type": "execute_result"
    }
   ],
   "source": [
    "x<<2"
   ]
  },
  {
   "cell_type": "code",
   "execution_count": 29,
   "id": "b86ede9d-7f96-4072-be11-6d35bb3f7536",
   "metadata": {},
   "outputs": [
    {
     "data": {
      "text/plain": [
       "0"
      ]
     },
     "execution_count": 29,
     "metadata": {},
     "output_type": "execute_result"
    }
   ],
   "source": [
    "x>>2"
   ]
  },
  {
   "cell_type": "markdown",
   "id": "a43e8858-2278-4ea7-bd40-011277171d86",
   "metadata": {},
   "source": [
    "Q.5. Create a list containing int type data of length 15. Then write a code to check if 10 is\n",
    "present in the list or not."
   ]
  },
  {
   "cell_type": "code",
   "execution_count": 30,
   "id": "40653616-be78-4497-bfc6-e89a9cc731d6",
   "metadata": {},
   "outputs": [],
   "source": [
    "list = [1,2,3,4,5,6,7,8,9,10,11,12,13,14,15]"
   ]
  },
  {
   "cell_type": "code",
   "execution_count": 31,
   "id": "de38606d-dae2-4ce0-916f-0bffc12c335b",
   "metadata": {},
   "outputs": [
    {
     "name": "stdout",
     "output_type": "stream",
     "text": [
      "present in the list\n"
     ]
    }
   ],
   "source": [
    "\n",
    "for i in list:\n",
    "    if i == 10:\n",
    "        print(\"present in the list\")\n",
    "    "
   ]
  },
  {
   "cell_type": "code",
   "execution_count": null,
   "id": "28e1e0ba-a979-485b-8faf-e1be2a01855a",
   "metadata": {},
   "outputs": [],
   "source": []
  }
 ],
 "metadata": {
  "kernelspec": {
   "display_name": "Python 3 (ipykernel)",
   "language": "python",
   "name": "python3"
  },
  "language_info": {
   "codemirror_mode": {
    "name": "ipython",
    "version": 3
   },
   "file_extension": ".py",
   "mimetype": "text/x-python",
   "name": "python",
   "nbconvert_exporter": "python",
   "pygments_lexer": "ipython3",
   "version": "3.10.9"
  }
 },
 "nbformat": 4,
 "nbformat_minor": 5
}
