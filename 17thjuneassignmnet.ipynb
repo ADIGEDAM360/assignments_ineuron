{
 "cells": [
  {
   "cell_type": "markdown",
   "id": "8d941d14-7329-4cfd-9eb5-caa5905be155",
   "metadata": {},
   "source": [
    "1. What is the role of try and exception block?\n"
   ]
  },
  {
   "cell_type": "markdown",
   "id": "bdbf2d65-feef-4d45-963d-03a54c138e21",
   "metadata": {},
   "source": [
    "While executing the program if something goes wrong because of end user input or\n",
    "programming logic or memory problems etc then we will get Runtime Errorsalso called exceptions\n",
    "to handle exceptions we use try and exception block \n",
    "eg \n",
    "\n",
    "try:\n",
    "Risky Code where run time error can be raised/exception \n",
    "except XXX:\n",
    "Handling code/Alternative Code to handle the exception \n"
   ]
  },
  {
   "cell_type": "markdown",
   "id": "71412ad6-c430-4d4b-9bb5-d319a961237e",
   "metadata": {},
   "source": [
    "2. What is the syntax for a basic try-except block?"
   ]
  },
  {
   "cell_type": "code",
   "execution_count": 3,
   "id": "8202b848-130c-4e04-a828-ff83c138a0b3",
   "metadata": {},
   "outputs": [],
   "source": [
    "try:\n",
    "    pass\n",
    "except:\n",
    "    pass"
   ]
  },
  {
   "cell_type": "raw",
   "id": "d2844419-ca8f-4474-8892-1a0946e44211",
   "metadata": {},
   "source": [
    "3. What happens if an exception occurs inside a try block and there is no matching\n",
    "except block?"
   ]
  },
  {
   "cell_type": "markdown",
   "id": "faf4c118-bf67-441b-b285-bb93b2706dc5",
   "metadata": {},
   "source": [
    "abnormal termination happens \n"
   ]
  },
  {
   "cell_type": "code",
   "execution_count": 4,
   "id": "bc81356d-7ade-4cba-bfd7-d7aaf5932fb5",
   "metadata": {},
   "outputs": [
    {
     "name": "stdout",
     "output_type": "stream",
     "text": [
      "stmt-1\n"
     ]
    },
    {
     "ename": "ZeroDivisionError",
     "evalue": "division by zero",
     "output_type": "error",
     "traceback": [
      "\u001b[1;31m---------------------------------------------------------------------------\u001b[0m",
      "\u001b[1;31mZeroDivisionError\u001b[0m                         Traceback (most recent call last)",
      "Cell \u001b[1;32mIn[4], line 2\u001b[0m\n\u001b[0;32m      1\u001b[0m \u001b[38;5;28mprint\u001b[39m(\u001b[38;5;124m\"\u001b[39m\u001b[38;5;124mstmt-1\u001b[39m\u001b[38;5;124m\"\u001b[39m)\n\u001b[1;32m----> 2\u001b[0m \u001b[38;5;28mprint\u001b[39m(\u001b[38;5;241;43m10\u001b[39;49m\u001b[38;5;241;43m/\u001b[39;49m\u001b[38;5;241;43m0\u001b[39;49m)\n\u001b[0;32m      3\u001b[0m \u001b[38;5;28mprint\u001b[39m(\u001b[38;5;124m\"\u001b[39m\u001b[38;5;124mstmt-3\u001b[39m\u001b[38;5;124m\"\u001b[39m)\n",
      "\u001b[1;31mZeroDivisionError\u001b[0m: division by zero"
     ]
    }
   ],
   "source": [
    "print(\"stmt-1\")\n",
    "print(10/0)\n",
    "print(\"stmt-3\")"
   ]
  },
  {
   "cell_type": "markdown",
   "id": "f76a9a08-07f3-4aa3-b0ed-15273342a824",
   "metadata": {},
   "source": [
    "abnormal termination happens"
   ]
  },
  {
   "cell_type": "code",
   "execution_count": 6,
   "id": "b7d6e130-9787-4128-974f-e78d7dea76d9",
   "metadata": {},
   "outputs": [
    {
     "name": "stdout",
     "output_type": "stream",
     "text": [
      "stmt-1\n",
      "division by zero\n",
      "stmt-2\n"
     ]
    }
   ],
   "source": [
    "try:\n",
    "    print(\"stmt-1\")\n",
    "    print(10/0)\n",
    "except ZeroDivisionError as z :\n",
    "    print(z)\n",
    "print(\"stmt-2\")\n",
    "\n",
    "    \n",
    "    "
   ]
  },
  {
   "cell_type": "markdown",
   "id": "2e9e0e68-018d-4fd8-9771-584d931552e0",
   "metadata": {},
   "source": [
    "normal termination "
   ]
  },
  {
   "cell_type": "markdown",
   "id": "63371a28-552e-4c30-8fec-5505aa0ab44a",
   "metadata": {},
   "source": [
    "What is the difference between using a bare except block and specifying a specific\n",
    "exception type?"
   ]
  },
  {
   "cell_type": "markdown",
   "id": "2451fb44-743c-41b0-b9d7-9e3e38e19981",
   "metadata": {},
   "source": [
    "a bare except handle alltypes of the exceptionn where as spcefic exception type handle only specific exception \n"
   ]
  },
  {
   "cell_type": "code",
   "execution_count": 9,
   "id": "8efebbbe-6a6a-4cff-a042-e5abebc40014",
   "metadata": {},
   "outputs": [
    {
     "name": "stdout",
     "output_type": "stream",
     "text": [
      "valid input\n"
     ]
    }
   ],
   "source": [
    "try:\n",
    "    10/0\n",
    "except:\n",
    "    print(\"no valid input\")\n",
    "    "
   ]
  },
  {
   "cell_type": "code",
   "execution_count": 10,
   "id": "5a7d4a55-dae1-4ba5-b238-b223d274b91f",
   "metadata": {},
   "outputs": [
    {
     "ename": "TypeError",
     "evalue": "unsupported operand type(s) for /: 'int' and 'str'",
     "output_type": "error",
     "traceback": [
      "\u001b[1;31m---------------------------------------------------------------------------\u001b[0m",
      "\u001b[1;31mTypeError\u001b[0m                                 Traceback (most recent call last)",
      "Cell \u001b[1;32mIn[10], line 2\u001b[0m\n\u001b[0;32m      1\u001b[0m \u001b[38;5;28;01mtry\u001b[39;00m:\n\u001b[1;32m----> 2\u001b[0m     \u001b[38;5;241;43m10\u001b[39;49m\u001b[38;5;241;43m/\u001b[39;49m\u001b[38;5;124;43m'\u001b[39;49m\u001b[38;5;124;43mi\u001b[39;49m\u001b[38;5;124;43m'\u001b[39;49m\n\u001b[0;32m      3\u001b[0m \u001b[38;5;28;01mexcept\u001b[39;00m \u001b[38;5;167;01mZeroDivisionError\u001b[39;00m \u001b[38;5;28;01mas\u001b[39;00m z:\n\u001b[0;32m      4\u001b[0m     \u001b[38;5;28mprint\u001b[39m(\u001b[38;5;124m\"\u001b[39m\u001b[38;5;124mno valid input\u001b[39m\u001b[38;5;124m\"\u001b[39m, z)\n",
      "\u001b[1;31mTypeError\u001b[0m: unsupported operand type(s) for /: 'int' and 'str'"
     ]
    }
   ],
   "source": [
    "try:\n",
    "    10/'i'\n",
    "except ZeroDivisionError as z:\n",
    "    print(\"no valid input\", z)\n",
    "    "
   ]
  },
  {
   "cell_type": "markdown",
   "id": "21389bef-89e9-4f73-9849-a0f3fe6c3fe3",
   "metadata": {},
   "source": [
    "abnormal ternimation "
   ]
  },
  {
   "cell_type": "markdown",
   "id": "aefddf2c-c72f-4bed-955e-058ef7a67d30",
   "metadata": {},
   "source": [
    "Can you have nested try-except blocks in Python? If yes, then give an example."
   ]
  },
  {
   "cell_type": "code",
   "execution_count": 11,
   "id": "027580e6-c462-4239-aca9-49f0e65ad917",
   "metadata": {},
   "outputs": [
    {
     "name": "stdout",
     "output_type": "stream",
     "text": [
      "outer try block\n",
      "inner try block\n"
     ]
    }
   ],
   "source": [
    "try:\n",
    "    print(\"outer try block\")\n",
    "    try:\n",
    "        print(\"inner try block\")\n",
    "    except:\n",
    "        print(\"inner except block \")\n",
    "except:\n",
    "    print(\"outer try block\")\n",
    "    try:\n",
    "        print(\"except try block\")\n",
    "        \n",
    "    except:\n",
    "        print((\"except ionside except block\"))\n"
   ]
  },
  {
   "cell_type": "markdown",
   "id": "ad2623cb-8756-403a-b131-03fdabdd0242",
   "metadata": {},
   "source": [
    " Can we use multiple exception blocks, if yes then give an example."
   ]
  },
  {
   "cell_type": "code",
   "execution_count": 13,
   "id": "694dab5d-eed9-4b0a-b5bf-38294681d049",
   "metadata": {},
   "outputs": [
    {
     "name": "stdin",
     "output_type": "stream",
     "text": [
      " 10\n",
      " I\n"
     ]
    },
    {
     "name": "stdout",
     "output_type": "stream",
     "text": [
      "invalid literal for int() with base 10: 'I'\n"
     ]
    }
   ],
   "source": [
    "try:\n",
    "    x= int(input())\n",
    "    y = int(input())\n",
    "    print(x+y)\n",
    "    print(x/y)\n",
    "except ArithmeticError as s:\n",
    "    print(s)\n",
    "except ZeroDivisionError as z:\n",
    "    print(z)\n",
    "except ValueError as v:\n",
    "    print(v)\n",
    "    "
   ]
  },
  {
   "cell_type": "markdown",
   "id": "9493b388-595e-4323-8623-a283a0141c1f",
   "metadata": {},
   "source": [
    "7. Write the reason due to which following errors are raised:\n",
    "a. EOFError\n",
    "b. FloatingPointError\n",
    "c. IndexError\n",
    "d. MemoryError\n",
    "e. OverflowError\n",
    "f. TabError\n",
    "g. ValueError"
   ]
  },
  {
   "cell_type": "markdown",
   "id": "142e471e-155a-40df-9ba7-12069d229651",
   "metadata": {},
   "source": [
    "EOFError it occurs when we dont have the input in the input()"
   ]
  },
  {
   "cell_type": "code",
   "execution_count": null,
   "id": "146e7d48-d1a8-4d18-8c6f-5484a7aa4f38",
   "metadata": {},
   "outputs": [],
   "source": [
    "try:\n",
    "    n = int(input())\n",
    "    n/10\n",
    "except EOFError as e :\n",
    "    print(e)\n",
    "    \n",
    "    "
   ]
  },
  {
   "cell_type": "code",
   "execution_count": 10,
   "id": "cf3c474a-75aa-4c0a-ac68-56227f6140d8",
   "metadata": {},
   "outputs": [
    {
     "name": "stdout",
     "output_type": "stream",
     "text": [
      "list index out of range\n"
     ]
    }
   ],
   "source": [
    "#index error \n",
    "try:\n",
    "    l = [1,2,34,4,5,5,6]\n",
    "    print(l[8])\n",
    "except IndexError as i:\n",
    "    print(i)\n",
    "    \n",
    "\n",
    "    "
   ]
  },
  {
   "cell_type": "markdown",
   "id": "6601324b-bfb0-41f6-b3ca-c536b8c2dc14",
   "metadata": {},
   "source": [
    "OverflowError occurs when any operations like arithmetic operations or any other variable storing any value above its limit then there occurs an overflow of values that will exceed it’s specified or already defined limit"
   ]
  },
  {
   "cell_type": "code",
   "execution_count": 13,
   "id": "fb0701ae-7ea1-4e16-b2b0-2e763cddf581",
   "metadata": {},
   "outputs": [
    {
     "ename": "OverflowError",
     "evalue": "math range error",
     "output_type": "error",
     "traceback": [
      "\u001b[1;31m---------------------------------------------------------------------------\u001b[0m",
      "\u001b[1;31mOverflowError\u001b[0m                             Traceback (most recent call last)",
      "Cell \u001b[1;32mIn[13], line 2\u001b[0m\n\u001b[0;32m      1\u001b[0m \u001b[38;5;28;01mimport\u001b[39;00m \u001b[38;5;21;01mmath\u001b[39;00m \n\u001b[1;32m----> 2\u001b[0m \u001b[38;5;28mprint\u001b[39m(\u001b[43mmath\u001b[49m\u001b[38;5;241;43m.\u001b[39;49m\u001b[43mexp\u001b[49m\u001b[43m(\u001b[49m\u001b[38;5;241;43m100000000\u001b[39;49m\u001b[43m)\u001b[49m)\n",
      "\u001b[1;31mOverflowError\u001b[0m: math range error"
     ]
    }
   ],
   "source": [
    "\n",
    "import math \n",
    "print(math.exp(100000000))"
   ]
  },
  {
   "cell_type": "code",
   "execution_count": 14,
   "id": "25a6c895-c6e6-4e98-b0f8-979f6fd2648e",
   "metadata": {},
   "outputs": [
    {
     "name": "stdout",
     "output_type": "stream",
     "text": [
      "math range error\n"
     ]
    }
   ],
   "source": [
    "import math \n",
    "try:\n",
    "    print(math.exp(100000000))\n",
    "except OverflowError as o :\n",
    "    print(o)"
   ]
  },
  {
   "cell_type": "code",
   "execution_count": 20,
   "id": "964c4173-8ff4-46b2-a4a1-0af73cd2fde6",
   "metadata": {},
   "outputs": [
    {
     "name": "stdout",
     "output_type": "stream",
     "text": [
      "Print the current data and time\n",
      "[2023, 7, 12, 8, 1, 22, 2, 193, 0]\n",
      "\n",
      "\n",
      "The invlaid time is as follows:\n",
      "9444732965739290427392\n",
      "\n",
      "\n"
     ]
    },
    {
     "ename": "OverflowError",
     "evalue": "Python int too large to convert to C long",
     "output_type": "error",
     "traceback": [
      "\u001b[1;31m---------------------------------------------------------------------------\u001b[0m",
      "\u001b[1;31mOverflowError\u001b[0m                             Traceback (most recent call last)",
      "Cell \u001b[1;32mIn[20], line 15\u001b[0m\n\u001b[0;32m     13\u001b[0m currtime[\u001b[38;5;241m3\u001b[39m] \u001b[38;5;241m=\u001b[39m time2\n\u001b[0;32m     14\u001b[0m currtime1 \u001b[38;5;241m=\u001b[39m \u001b[38;5;28mtuple\u001b[39m(currtime)\n\u001b[1;32m---> 15\u001b[0m time3 \u001b[38;5;241m=\u001b[39m \u001b[43mtime\u001b[49m\u001b[38;5;241;43m.\u001b[39;49m\u001b[43masctime\u001b[49m\u001b[43m(\u001b[49m\u001b[43mcurrtime1\u001b[49m\u001b[43m)\u001b[49m\n\u001b[0;32m     16\u001b[0m \u001b[38;5;28mprint\u001b[39m(time3)\n",
      "\u001b[1;31mOverflowError\u001b[0m: Python int too large to convert to C long"
     ]
    }
   ],
   "source": [
    "import time\n",
    "\n",
    "currtime = [tm for tm in time.localtime()]\n",
    "print(\"Print the current data and time\")\n",
    "print(currtime)\n",
    "print(\"\\n\")\n",
    "\n",
    "time2 = (2**73)\n",
    "print(\"The invlaid time is as follows:\")\n",
    "print(time2)\n",
    "print(\"\\n\")\n",
    "\n",
    "currtime[3] = time2\n",
    "currtime1 = tuple(currtime)# coverted to the tuple \n",
    "time3 = time.asctime(currtime1) # in cannot be cocerted here to string as datatypelimit has reached \n",
    "print(time3)"
   ]
  },
  {
   "cell_type": "markdown",
   "id": "a102af74-c033-4a3d-9294-28e8cfa69773",
   "metadata": {},
   "source": [
    "TabError"
   ]
  },
  {
   "cell_type": "code",
   "execution_count": 28,
   "id": "8bf0c8ff-092a-42fd-acf2-16c3327bf27e",
   "metadata": {},
   "outputs": [
    {
     "ename": "IndentationError",
     "evalue": "unindent does not match any outer indentation level (<tokenize>, line 3)",
     "output_type": "error",
     "traceback": [
      "\u001b[1;36m  File \u001b[1;32m<tokenize>:3\u001b[1;36m\u001b[0m\n\u001b[1;33m    print('n')\u001b[0m\n\u001b[1;37m    ^\u001b[0m\n\u001b[1;31mIndentationError\u001b[0m\u001b[1;31m:\u001b[0m unindent does not match any outer indentation level\n"
     ]
    }
   ],
   "source": [
    "for i in range(0,10):\n",
    "        print(i)\n",
    "    print('n')"
   ]
  },
  {
   "cell_type": "code",
   "execution_count": 29,
   "id": "9a4ba798-6e8f-4cd2-93e4-e77b43efa8fa",
   "metadata": {},
   "outputs": [
    {
     "name": "stdin",
     "output_type": "stream",
     "text": [
      " 1\n",
      " 1\n"
     ]
    },
    {
     "name": "stdout",
     "output_type": "stream",
     "text": [
      "2\n",
      "1.0\n"
     ]
    }
   ],
   "source": [
    "# value error due to the using value other than required .\n",
    "try:\n",
    "    x= int(input())\n",
    "    y = int(input())\n",
    "    print(x+y)\n",
    "    print(x/y)\n",
    "except ArithmeticError as s:\n",
    "    print(s)\n",
    "except ZeroDivisionError as z:\n",
    "    print(z)\n",
    "except ValueError as v:\n",
    "    print(v)\n",
    "    \n",
    "    "
   ]
  },
  {
   "cell_type": "raw",
   "id": "783b1a75-469f-4f7e-8126-1540978fb9d2",
   "metadata": {},
   "source": [
    "8. Write code for the following given scenario and add try-exception block to it.\n",
    "a. Program to divide two numbers\n",
    "b. Program to convert a string to an integer\n",
    "c. Program to access an element in a list\n",
    "d. Program to handle a specific exception\n",
    "e. Program to handle any exception"
   ]
  },
  {
   "cell_type": "code",
   "execution_count": 30,
   "id": "cc31d1cf-9992-4881-92e5-41407255795f",
   "metadata": {},
   "outputs": [
    {
     "name": "stdin",
     "output_type": "stream",
     "text": [
      " 1\n",
      " 0\n"
     ]
    },
    {
     "name": "stdout",
     "output_type": "stream",
     "text": [
      "division by zero\n"
     ]
    }
   ],
   "source": [
    "#Program to divide two numbers\n",
    "try:\n",
    "    x= int(input())\n",
    "    y = int(input())\n",
    "    print(x/y)\n",
    "except ArithmeticError as s:\n",
    "    print(s)\n",
    "except ZeroDivisionError as z:\n",
    "    print(z)\n",
    "except ValueError as v:\n",
    "    print(v)"
   ]
  },
  {
   "cell_type": "code",
   "execution_count": 31,
   "id": "199c158f-aefa-4399-8291-9d6d7566208e",
   "metadata": {},
   "outputs": [
    {
     "name": "stdin",
     "output_type": "stream",
     "text": [
      " qqqqq\n"
     ]
    },
    {
     "name": "stdout",
     "output_type": "stream",
     "text": [
      "invalid literal for int() with base 10: 'qqqqq'\n"
     ]
    }
   ],
   "source": [
    "#Program to convert a string to an integer\n",
    "try:\n",
    "    x= (input())\n",
    "    print(int(x),type(x))\n",
    "\n",
    "except ArithmeticError as s:\n",
    "    print(s)\n",
    "except ZeroDivisionError as z:\n",
    "    print(z)\n",
    "except ValueError as v:\n",
    "    print(v)"
   ]
  },
  {
   "cell_type": "code",
   "execution_count": 32,
   "id": "9a695116-cf6f-405f-a4b3-2ef31b253627",
   "metadata": {},
   "outputs": [
    {
     "name": "stdout",
     "output_type": "stream",
     "text": [
      "list index out of range\n"
     ]
    }
   ],
   "source": [
    "#Program to access an element in a list\n",
    "#index error \n",
    "try:\n",
    "    l = [1,2,34,4,5,5,6]\n",
    "    print(l[8])\n",
    "except IndexError as i:\n",
    "    print(i)\n"
   ]
  },
  {
   "cell_type": "code",
   "execution_count": 33,
   "id": "1513fc0a-d957-44c3-92e3-7f0c993211de",
   "metadata": {},
   "outputs": [
    {
     "name": "stdin",
     "output_type": "stream",
     "text": [
      " 1/10\n"
     ]
    },
    {
     "name": "stdout",
     "output_type": "stream",
     "text": [
      "invalid literal for int() with base 10: '1/10'\n"
     ]
    }
   ],
   "source": [
    "#Program to handle a specific exception\n",
    "try:\n",
    "    x= int(input())\n",
    "    y = int(input())\n",
    "    print(x/y)\n",
    "except ArithmeticError as s:\n",
    "    print(s)\n",
    "except ZeroDivisionError as z:\n",
    "    print(z)\n",
    "except ValueError as v:\n",
    "    print(v)\n"
   ]
  },
  {
   "cell_type": "code",
   "execution_count": 34,
   "id": "313210a0-19c1-4a76-b5af-6e53bc5c43c1",
   "metadata": {},
   "outputs": [
    {
     "name": "stdin",
     "output_type": "stream",
     "text": [
      " 1/0\n"
     ]
    },
    {
     "name": "stdout",
     "output_type": "stream",
     "text": [
      "no valid input\n"
     ]
    }
   ],
   "source": [
    "#e. Program to handle any exception\n",
    "\n",
    "try:\n",
    "    x=int(input(\"\"))\n",
    "    y =int(input(\"\"))\n",
    "    x/y\n",
    "except:\n",
    "    print(\"no valid input\")"
   ]
  },
  {
   "cell_type": "code",
   "execution_count": null,
   "id": "55520ca2-82a8-49a2-affc-7eb65fe521ea",
   "metadata": {},
   "outputs": [],
   "source": []
  }
 ],
 "metadata": {
  "kernelspec": {
   "display_name": "Python 3 (ipykernel)",
   "language": "python",
   "name": "python3"
  },
  "language_info": {
   "codemirror_mode": {
    "name": "ipython",
    "version": 3
   },
   "file_extension": ".py",
   "mimetype": "text/x-python",
   "name": "python",
   "nbconvert_exporter": "python",
   "pygments_lexer": "ipython3",
   "version": "3.10.9"
  }
 },
 "nbformat": 4,
 "nbformat_minor": 5
}
