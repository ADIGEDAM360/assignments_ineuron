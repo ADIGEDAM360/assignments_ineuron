{
 "cells": [
  {
   "cell_type": "markdown",
   "id": "99474cbf-2c83-41a2-a119-397e3fb8fb70",
   "metadata": {},
   "source": [
    "1. What exactly is []?\n",
    "\n",
    "Ans = called as index bracket \n",
    "\n",
    "•Use to declare the list\n",
    "\n",
    "•Use to access/ retrive the single element form data structure \n"
   ]
  },
  {
   "cell_type": "markdown",
   "id": "29cf976b-1c87-4653-a820-a2e085704311",
   "metadata": {},
   "source": [
    "2. In a list of values stored in a variable called spam, how would you assign the value 'hello' as the third value? (Assume [2, 4, 6, 8, 10] are in spam.)"
   ]
  },
  {
   "cell_type": "code",
   "execution_count": 3,
   "id": "31eb60c5-4b9d-4999-8f5a-274300a754e7",
   "metadata": {},
   "outputs": [],
   "source": [
    "spam = [2,4,6,8,10]"
   ]
  },
  {
   "cell_type": "code",
   "execution_count": 4,
   "id": "5ea45a27-1dd6-4f5f-97fe-5306bb35dc79",
   "metadata": {},
   "outputs": [],
   "source": [
    " spam[2] = 'hello'"
   ]
  },
  {
   "cell_type": "code",
   "execution_count": 5,
   "id": "32c10c02-b752-404b-a9f8-9e63c0030e89",
   "metadata": {},
   "outputs": [
    {
     "data": {
      "text/plain": [
       "[2, 4, 'hello', 8, 10]"
      ]
     },
     "execution_count": 5,
     "metadata": {},
     "output_type": "execute_result"
    }
   ],
   "source": [
    "spam"
   ]
  },
  {
   "cell_type": "markdown",
   "id": "1c310966-ad12-4098-9e6e-a51121555a49",
   "metadata": {},
   "source": [
    "Let's pretend the spam includes the list ['a', 'b', 'c', 'd'] for the next three queries."
   ]
  },
  {
   "cell_type": "markdown",
   "id": "fd5d0226-5a44-4818-b495-256b8a3671be",
   "metadata": {},
   "source": [
    "3. What is the value of spam[int(int('3' * 2) / 11)]?    "
   ]
  },
  {
   "cell_type": "code",
   "execution_count": 7,
   "id": "b80c5b34-72b3-46f1-858a-f497b7a3a426",
   "metadata": {},
   "outputs": [],
   "source": [
    "spam  = ['a','b','c','d']"
   ]
  },
  {
   "cell_type": "code",
   "execution_count": 8,
   "id": "6fb20153-f421-49df-a94f-147e8bf9000c",
   "metadata": {},
   "outputs": [
    {
     "data": {
      "text/plain": [
       "'d'"
      ]
     },
     "execution_count": 8,
     "metadata": {},
     "output_type": "execute_result"
    }
   ],
   "source": [
    "spam[int(int('3' * 2) / 11)]"
   ]
  },
  {
   "cell_type": "markdown",
   "id": "1ea1dde0-9a94-47dd-8154-521ffc924312",
   "metadata": {},
   "source": [
    "4. What is the value of spam[-1]?"
   ]
  },
  {
   "cell_type": "code",
   "execution_count": 10,
   "id": "8c2b4ea6-d29c-40e6-8842-f11e33572de1",
   "metadata": {},
   "outputs": [
    {
     "data": {
      "text/plain": [
       "'d'"
      ]
     },
     "execution_count": 10,
     "metadata": {},
     "output_type": "execute_result"
    }
   ],
   "source": [
    "spam[-1] "
   ]
  },
  {
   "cell_type": "markdown",
   "id": "a4690c90-f8b6-43dd-ba7f-996b73d4ae0f",
   "metadata": {},
   "source": [
    "5. What is the value of spam[:2]?"
   ]
  },
  {
   "cell_type": "code",
   "execution_count": 11,
   "id": "9cbe7845-65b1-4a03-a924-aedd28f2bf09",
   "metadata": {},
   "outputs": [
    {
     "data": {
      "text/plain": [
       "['a', 'b']"
      ]
     },
     "execution_count": 11,
     "metadata": {},
     "output_type": "execute_result"
    }
   ],
   "source": [
    "spam[:2]"
   ]
  },
  {
   "cell_type": "code",
   "execution_count": 13,
   "id": "6646cfcc-380c-4c90-8fd9-397e8df22ceb",
   "metadata": {},
   "outputs": [],
   "source": [
    "bacon = [3.14, 'cat', 11, 'cat', True] "
   ]
  },
  {
   "cell_type": "markdown",
   "id": "f3ac28ab-d07f-47b9-8d4f-a0d65ca49ea7",
   "metadata": {},
   "source": [
    "6. What is the value of bacon.index('cat')?"
   ]
  },
  {
   "cell_type": "code",
   "execution_count": 14,
   "id": "357601f3-9023-42ea-b543-cdae13c6bd0c",
   "metadata": {},
   "outputs": [
    {
     "data": {
      "text/plain": [
       "1"
      ]
     },
     "execution_count": 14,
     "metadata": {},
     "output_type": "execute_result"
    }
   ],
   "source": [
    "bacon.index('cat')"
   ]
  },
  {
   "cell_type": "markdown",
   "id": "00cb3455-f68a-4056-8f9f-35e077473348",
   "metadata": {},
   "source": [
    "7. How does bacon.append(99) change the look of the list value in bacon?\n"
   ]
  },
  {
   "cell_type": "code",
   "execution_count": 18,
   "id": "bdf2615d-2e01-4fa5-a2d4-82a964fe3776",
   "metadata": {},
   "outputs": [],
   "source": [
    "bacon.append(99) "
   ]
  },
  {
   "cell_type": "code",
   "execution_count": 19,
   "id": "d9241c82-d4ba-4636-bff7-efb99eb802d0",
   "metadata": {},
   "outputs": [
    {
     "data": {
      "text/plain": [
       "[3.14, 'cat', 11, 'cat', True, 99]"
      ]
     },
     "execution_count": 19,
     "metadata": {},
     "output_type": "execute_result"
    }
   ],
   "source": [
    "bacon"
   ]
  },
  {
   "cell_type": "raw",
   "id": "4e8d6f83-9573-4f1e-9a0b-2b39478a1f52",
   "metadata": {},
   "source": [
    "10. What is difference between the list methods append() and insert()?"
   ]
  },
  {
   "cell_type": "raw",
   "id": "e1c6ceb6-b972-48ce-84a3-82a4d22075c8",
   "metadata": {},
   "source": [
    "Eg -  bacon.insert(2,'aditya')\n",
    "          [3.14, 11, 'aditya', 'cat', True, 99]\n",
    "append() allows to object at the end of the sequence –\n",
    "bacon.append(99) \n",
    " [3.14, 'cat', 11, 'cat', True, 99]\n"
   ]
  },
  {
   "cell_type": "raw",
   "id": "ac42547a-46b2-47ab-9764-c805da8e8527",
   "metadata": {},
   "source": [
    "11. What are the two methods for removing items from a list?"
   ]
  },
  {
   "cell_type": "markdown",
   "id": "c49e2722-8b69-4c5a-b28a-fe32e37ca433",
   "metadata": {},
   "source": [
    "Pop()allows to Remove and return item at index(default index = -1 ) can be changed\n",
    "  \n",
    "  \n",
    "  \n",
    "#eg "
   ]
  },
  {
   "cell_type": "code",
   "execution_count": 20,
   "id": "4ab03f49-e628-4cac-b3f5-a0341dbb2dcd",
   "metadata": {},
   "outputs": [
    {
     "data": {
      "text/plain": [
       "11"
      ]
     },
     "execution_count": 20,
     "metadata": {},
     "output_type": "execute_result"
    }
   ],
   "source": [
    "bacon.pop(2)"
   ]
  },
  {
   "cell_type": "markdown",
   "id": "20c4269a-aca5-4401-8020-9e9c46cd52d5",
   "metadata": {},
   "source": [
    "Remove() allows us to remove the first occurrence of the object"
   ]
  },
  {
   "cell_type": "code",
   "execution_count": 21,
   "id": "bd2701a1-b6dc-4fa8-ae8e-2e9b6cd099be",
   "metadata": {},
   "outputs": [],
   "source": [
    "bacon.remove('cat')"
   ]
  },
  {
   "cell_type": "code",
   "execution_count": 22,
   "id": "b8e8b510-d646-43ec-b433-21a8e83d63d2",
   "metadata": {},
   "outputs": [
    {
     "data": {
      "text/plain": [
       "[3.14, 'cat', True, 99]"
      ]
     },
     "execution_count": 22,
     "metadata": {},
     "output_type": "execute_result"
    }
   ],
   "source": [
    "bacon"
   ]
  },
  {
   "cell_type": "markdown",
   "id": "3a2016bf-5792-49d0-90fb-6e490fef8dff",
   "metadata": {},
   "source": [
    "12. Describe how list values and string values are identical."
   ]
  },
  {
   "cell_type": "markdown",
   "id": "b1d0ff1c-d7de-4c74-ac62-0d3e04bc25aa",
   "metadata": {},
   "source": [
    "The values that make up a list are called its elements. Lists are similar to strings, which are ordered collections of characters, except that the elements of a list can have any type and for any one list, the items can be of different types."
   ]
  },
  {
   "cell_type": "markdown",
   "id": "7a5bb009-4b12-4b44-b110-e2e957aa3080",
   "metadata": {},
   "source": [
    "13. What's the difference between tuples and lists"
   ]
  },
  {
   "cell_type": "markdown",
   "id": "8213cf3f-aeac-48a7-9034-369f4d83974f",
   "metadata": {},
   "source": [
    "List are mutable tuple are not mutable "
   ]
  },
  {
   "cell_type": "markdown",
   "id": "21791605-2354-429e-8cfa-09d7edde7c78",
   "metadata": {},
   "source": [
    "14. How do you type a tuple value that only contains the integer 42?"
   ]
  },
  {
   "cell_type": "code",
   "execution_count": 26,
   "id": "f03c83a2-6613-4eee-94d8-a8430db0e470",
   "metadata": {},
   "outputs": [],
   "source": [
    "tuple = (42)\n"
   ]
  },
  {
   "cell_type": "code",
   "execution_count": 27,
   "id": "0785f9b3-bded-4378-91a2-2160cfadb9cf",
   "metadata": {},
   "outputs": [
    {
     "data": {
      "text/plain": [
       "42"
      ]
     },
     "execution_count": 27,
     "metadata": {},
     "output_type": "execute_result"
    }
   ],
   "source": [
    "tuple"
   ]
  },
  {
   "cell_type": "markdown",
   "id": "c080f584-aa57-400f-a926-e90cb529025e",
   "metadata": {},
   "source": [
    "15. How do you get a list value's tuple form? "
   ]
  },
  {
   "cell_type": "markdown",
   "id": "6909d76e-b608-4564-9a09-d609fdf3d9da",
   "metadata": {},
   "source": [
    "Use tuple() METHOD "
   ]
  },
  {
   "cell_type": "code",
   "execution_count": 39,
   "id": "2c72f1dd-2ef5-4260-b3ca-3877ede1d1d1",
   "metadata": {},
   "outputs": [
    {
     "data": {
      "text/plain": [
       "list"
      ]
     },
     "execution_count": 39,
     "metadata": {},
     "output_type": "execute_result"
    }
   ],
   "source": [
    "l = [\"qa\",12 ,24]\n",
    "type(l)\n"
   ]
  },
  {
   "cell_type": "code",
   "execution_count": 42,
   "id": "7bc70d7f-239e-4cd8-a7a0-3e795e9fb55e",
   "metadata": {},
   "outputs": [],
   "source": [
    "List_to_tuple =  tuple(l)"
   ]
  },
  {
   "cell_type": "raw",
   "id": "4547b8b6-dc8f-440b-8440-87f7a11ef0b9",
   "metadata": {},
   "source": [
    " How do you get a tuple value's list form?"
   ]
  },
  {
   "cell_type": "markdown",
   "id": "c354b978-7664-48d6-9d0e-a640a4ea32b9",
   "metadata": {},
   "source": [
    "Using the list function "
   ]
  },
  {
   "cell_type": "code",
   "execution_count": 43,
   "id": "4a5762b5-a2fc-4f7a-9a54-9a988bd9616e",
   "metadata": {},
   "outputs": [],
   "source": [
    "List_to_tuple = (1,2,3,4)"
   ]
  },
  {
   "cell_type": "code",
   "execution_count": 44,
   "id": "8c28add7-65db-4e05-89fc-6b9ea03e48ff",
   "metadata": {},
   "outputs": [],
   "source": [
    "TUPLETOLIST  = list(List_to_tuple)"
   ]
  },
  {
   "cell_type": "code",
   "execution_count": 45,
   "id": "7a66baf6-be8a-445d-a6e0-ebcf2b60b304",
   "metadata": {},
   "outputs": [
    {
     "data": {
      "text/plain": [
       "[1, 2, 3, 4]"
      ]
     },
     "execution_count": 45,
     "metadata": {},
     "output_type": "execute_result"
    }
   ],
   "source": [
    "TUPLETOLIST"
   ]
  },
  {
   "cell_type": "markdown",
   "id": "84f3b72f-5c98-47f8-b1a1-c5aaa13c6f8f",
   "metadata": {},
   "source": [
    "16. Variables that \"contain\" list values are not necessarily lists themselves. Instead, what do they contain?"
   ]
  },
  {
   "cell_type": "markdown",
   "id": "b220d34d-257b-410f-8757-d1e791aad244",
   "metadata": {},
   "source": [
    "Contains the memory references of the location .  "
   ]
  },
  {
   "cell_type": "markdown",
   "id": "59da7a0a-4d78-4902-890a-8297c330db7e",
   "metadata": {},
   "source": [
    "17. How do you distinguish between copy.copy() and copy.deepcopy()?\n"
   ]
  },
  {
   "cell_type": "raw",
   "id": "2fbc3aef-9699-4b70-a36b-8e77f2fee39a",
   "metadata": {},
   "source": [
    "Copy module allows to duplicate the list with difference reference "
   ]
  },
  {
   "cell_type": "markdown",
   "id": "a8d2cd69-49c9-4f45-9030-936c8bab902d",
   "metadata": {},
   "source": [
    "copy.copy(), can be used to make a duplicate copy of a mutable value like a list or dictionary, not just a copy of a reference"
   ]
  },
  {
   "cell_type": "markdown",
   "id": "3aaafef4-78e4-4e2a-9ebb-b9ec79274ef3",
   "metadata": {},
   "source": [
    "where as deecopy  will be used to do same  for list of list  "
   ]
  },
  {
   "cell_type": "code",
   "execution_count": 48,
   "id": "a7ecf46c-45cb-462e-93a6-800834affa79",
   "metadata": {},
   "outputs": [],
   "source": [
    "spam = [\"a\",'B', 'C','D']"
   ]
  },
  {
   "cell_type": "code",
   "execution_count": 50,
   "id": "1e83aeea-4a92-4f0d-8acf-8f0bad2ccc88",
   "metadata": {},
   "outputs": [],
   "source": [
    "import copy"
   ]
  },
  {
   "cell_type": "code",
   "execution_count": 51,
   "id": "234b285f-9363-4773-900d-5aa1d6d482c8",
   "metadata": {},
   "outputs": [],
   "source": [
    "cheese = copy.copy(spam)"
   ]
  },
  {
   "cell_type": "code",
   "execution_count": 52,
   "id": "8072f994-a2ff-4ccc-80ab-74737cff2d3f",
   "metadata": {},
   "outputs": [],
   "source": [
    "cheesedeep = copy.deepcopy(spam)"
   ]
  },
  {
   "cell_type": "code",
   "execution_count": 53,
   "id": "e87637fa-67a3-478a-a73a-5fb9ae1a85ec",
   "metadata": {},
   "outputs": [
    {
     "data": {
      "text/plain": [
       "2223109969280"
      ]
     },
     "execution_count": 53,
     "metadata": {},
     "output_type": "execute_result"
    }
   ],
   "source": [
    "id(cheese)"
   ]
  },
  {
   "cell_type": "code",
   "execution_count": 55,
   "id": "fd707381-514c-4ab5-ad22-b1dce5d90e9a",
   "metadata": {},
   "outputs": [
    {
     "data": {
      "text/plain": [
       "2223109976640"
      ]
     },
     "execution_count": 55,
     "metadata": {},
     "output_type": "execute_result"
    }
   ],
   "source": [
    "id(cheesedeep)"
   ]
  },
  {
   "cell_type": "code",
   "execution_count": 59,
   "id": "3d53f206-48b1-4206-802e-30e76c74d7bb",
   "metadata": {},
   "outputs": [],
   "source": [
    "cheese[1] = 42"
   ]
  },
  {
   "cell_type": "code",
   "execution_count": 58,
   "id": "5e440f47-fc62-40e0-b85a-f9e2edc893be",
   "metadata": {},
   "outputs": [
    {
     "data": {
      "text/plain": [
       "['a', 'B', 'C', 'D']"
      ]
     },
     "execution_count": 58,
     "metadata": {},
     "output_type": "execute_result"
    }
   ],
   "source": [
    "spam"
   ]
  },
  {
   "cell_type": "code",
   "execution_count": 60,
   "id": "ae5e89e2-7009-4aa1-91eb-e4a88fa2d8d9",
   "metadata": {},
   "outputs": [
    {
     "data": {
      "text/plain": [
       "['a', 42, 'C', 'D']"
      ]
     },
     "execution_count": 60,
     "metadata": {},
     "output_type": "execute_result"
    }
   ],
   "source": [
    "cheese"
   ]
  },
  {
   "cell_type": "code",
   "execution_count": null,
   "id": "a078386a-a9f2-42f8-8162-05bbaa2c182c",
   "metadata": {},
   "outputs": [],
   "source": []
  }
 ],
 "metadata": {
  "kernelspec": {
   "display_name": "Python 3 (ipykernel)",
   "language": "python",
   "name": "python3"
  },
  "language_info": {
   "codemirror_mode": {
    "name": "ipython",
    "version": 3
   },
   "file_extension": ".py",
   "mimetype": "text/x-python",
   "name": "python",
   "nbconvert_exporter": "python",
   "pygments_lexer": "ipython3",
   "version": "3.10.9"
  }
 },
 "nbformat": 4,
 "nbformat_minor": 5
}
