{
 "cells": [
  {
   "attachments": {
    "33cc0f76-495c-4485-9473-d8e05a944f81.png": {
     "image/png": "[encoded data removed]"
    }
   },
   "cell_type": "markdown",
   "id": "70180fe4-7a52-42d4-8efa-fb139b360c90",
   "metadata": {},
   "source": [
    "![image.png](attachment:33cc0f76-495c-4485-9473-d8e05a944f81.png)"
   ]
  },
  {
   "cell_type": "code",
   "execution_count": 13,
   "id": "6245e4cd-f7a1-4816-b2f5-737c5d9cd7eb",
   "metadata": {},
   "outputs": [
    {
     "name": "stdin",
     "output_type": "stream",
     "text": [
      " 7\n"
     ]
    },
    {
     "name": "stdout",
     "output_type": "stream",
     "text": [
      "       *\n",
      "      ***\n",
      "     *****\n",
      "    *******\n",
      "   *********\n",
      "  ***********\n",
      " *************\n"
     ]
    }
   ],
   "source": [
    "n = int(input())\n",
    "for i in range(1,n+1):\n",
    "    print(\" \"*(n-i),\"*\"*(2*i-1))"
   ]
  },
  {
   "cell_type": "code",
   "execution_count": 11,
   "id": "944f3233-19d8-46cb-bbe9-4bf4501c6a13",
   "metadata": {},
   "outputs": [
    {
     "name": "stdin",
     "output_type": "stream",
     "text": [
      " 7\n"
     ]
    },
    {
     "name": "stdout",
     "output_type": "stream",
     "text": [
      "* \n",
      "* * \n",
      "* * * \n",
      "* * * * \n",
      "* * * * * \n",
      "* * * * * * \n",
      "* * * * * * * \n"
     ]
    }
   ],
   "source": [
    "n = int(input())\n",
    "for i in range(1, n+1):\n",
    "    for j in range (1, i+1):\n",
    "        print(\"*\", end =\" \")\n",
    "    print()\n",
    "    \n"
   ]
  },
  {
   "cell_type": "markdown",
   "id": "bbf59d86-fabb-4a3d-b79c-9f3f32aee717",
   "metadata": {},
   "source": [
    "Q1. What are keywords in python? Using the keyword library, print all the python keywords"
   ]
  },
  {
   "cell_type": "markdown",
   "id": "81cafcf2-65ec-40fc-9e7b-185bfd7fd6bf",
   "metadata": {},
   "source": [
    "keywords are the special reserved words which cannot be used to name variableoor any identifier "
   ]
  },
  {
   "cell_type": "code",
   "execution_count": 5,
   "id": "7b18eef5-6161-4e6a-b76b-fe4f121ddba8",
   "metadata": {},
   "outputs": [
    {
     "name": "stdout",
     "output_type": "stream",
     "text": [
      "['False', 'None', 'True', 'and', 'as', 'assert', 'async', 'await', 'break', 'class', 'continue', 'def', 'del', 'elif', 'else', 'except', 'finally', 'for', 'from', 'global', 'if', 'import', 'in', 'is', 'lambda', 'nonlocal', 'not', 'or', 'pass', 'raise', 'return', 'try', 'while', 'with', 'yield']\n"
     ]
    }
   ],
   "source": [
    "\n",
    "import keyword as kw \n",
    "print(kw.kwlist)\n"
   ]
  },
  {
   "cell_type": "markdown",
   "id": "a55aa900-0236-4d82-9ec1-305e2335b92f",
   "metadata": {},
   "source": [
    "Q2 'What are the rules to create variables in python?\n"
   ]
  },
  {
   "cell_type": "markdown",
   "id": "3b4d9bc6-37d3-42f1-9764-f4a4cb75ef6d",
   "metadata": {},
   "source": [
    "A variable name must start with a letter or the underscore character\n",
    "var =\"10\" or _var='109'\n",
    "A variable name cannot start with a number\n",
    "\n",
    "A variable name can only contain alpha-numeric characters and underscores\n",
    "VAR12 = '12'  \n",
    "_VAR12 ='12\n",
    "\n",
    "Variable names are case-sensitive\n",
    "var is different than VAR"
   ]
  },
  {
   "cell_type": "markdown",
   "id": "aa4e3255-62ac-4efa-bd91-6a9c2504d8b0",
   "metadata": {},
   "source": [
    "Q.3. What are the standards and conventions followed for the nomenclature of variables in\n",
    "python to improve code readability and maintainability"
   ]
  },
  {
   "cell_type": "markdown",
   "id": "53e3c88f-4ac6-4020-8407-5c47b31f2191",
   "metadata": {},
   "source": [
    "A variable name must start with a letter or the underscore character\n",
    "var =\"10\" or _var='109'\n",
    "A variable name cannot start with a number\n",
    "\n",
    "A variable name can only contain alpha-numeric characters and underscores\n",
    "VAR12 = '12'  \n",
    "_VAR12 ='12\n",
    "\n",
    "Variable names are case-sensitive\n",
    "var is different than VAR"
   ]
  },
  {
   "cell_type": "markdown",
   "id": "d18aeb3c-c1a6-426d-ac0d-17a42f947fb8",
   "metadata": {},
   "source": [
    "Q4  What will happen if a keyword is used as a variable name?"
   ]
  },
  {
   "cell_type": "code",
   "execution_count": 10,
   "id": "0b19f960-a431-4874-ae8a-c323ff9781f0",
   "metadata": {},
   "outputs": [
    {
     "ename": "SyntaxError",
     "evalue": "cannot assign to None (1338636786.py, line 1)",
     "output_type": "error",
     "traceback": [
      "\u001b[1;36m  Cell \u001b[1;32mIn[10], line 1\u001b[1;36m\u001b[0m\n\u001b[1;33m    None = \"ok\"\u001b[0m\n\u001b[1;37m    ^\u001b[0m\n\u001b[1;31mSyntaxError\u001b[0m\u001b[1;31m:\u001b[0m cannot assign to None\n"
     ]
    }
   ],
   "source": [
    "\n",
    "None = \"ok\""
   ]
  },
  {
   "cell_type": "markdown",
   "id": "01fd6bf3-5360-4e85-ae54-f559feb056be",
   "metadata": {},
   "source": [
    "ANS - cannot assign name to variable"
   ]
  },
  {
   "cell_type": "markdown",
   "id": "973ba06a-c450-4622-bbbe-f6f7629029be",
   "metadata": {},
   "source": [
    "Q5 For what purpose def keyword is used?"
   ]
  },
  {
   "cell_type": "markdown",
   "id": "13da4540-1f32-426c-b512-4d231b6c3682",
   "metadata": {},
   "source": [
    "def keyword use to define the function \n",
    "\n"
   ]
  },
  {
   "cell_type": "code",
   "execution_count": 13,
   "id": "24be8999-4028-474f-a372-6092a8043c49",
   "metadata": {},
   "outputs": [
    {
     "data": {
      "text/plain": [
       "7"
      ]
     },
     "execution_count": 13,
     "metadata": {},
     "output_type": "execute_result"
    }
   ],
   "source": [
    "def add(a,b):\n",
    "    c=a+b\n",
    "    return c \n",
    "\n",
    "        \n",
    "add(3,4)\n",
    "        "
   ]
  },
  {
   "cell_type": "markdown",
   "id": "f41149ca-6eb8-41ba-afa5-6323dce8b0b4",
   "metadata": {},
   "source": [
    "Q.6. What is the operation of this special character ‘\\’"
   ]
  },
  {
   "cell_type": "markdown",
   "id": "fd4ce0c1-72b6-4ca6-81c7-24806fbf73ab",
   "metadata": {},
   "source": [
    "it is used as escape character in string literals and in print function \n"
   ]
  },
  {
   "cell_type": "code",
   "execution_count": 20,
   "id": "e1df5845-2f9f-49e4-aca8-8733c4260a47",
   "metadata": {},
   "outputs": [
    {
     "name": "stdout",
     "output_type": "stream",
     "text": [
      "2\n"
     ]
    }
   ],
   "source": [
    "print(\"2\", end=\"\\n\")"
   ]
  },
  {
   "cell_type": "code",
   "execution_count": 26,
   "id": "30cec036-47aa-4ed4-ac43-81b36efa78b0",
   "metadata": {},
   "outputs": [],
   "source": [
    "s= \"aditya\\ngedam \""
   ]
  },
  {
   "cell_type": "code",
   "execution_count": 27,
   "id": "4af430b8-537a-4bab-8e49-cf4a02b312f3",
   "metadata": {},
   "outputs": [
    {
     "name": "stdout",
     "output_type": "stream",
     "text": [
      "aditya\n",
      "gedam \n"
     ]
    }
   ],
   "source": [
    "print(s)"
   ]
  },
  {
   "cell_type": "code",
   "execution_count": 28,
   "id": "e098787e-b688-4b8c-8744-9ab2d99fced1",
   "metadata": {},
   "outputs": [],
   "source": [
    "s=  \"aditya\\tgedam \""
   ]
  },
  {
   "cell_type": "code",
   "execution_count": 29,
   "id": "aa9126fd-eaff-47d0-afb8-8c63c8b556bd",
   "metadata": {},
   "outputs": [
    {
     "name": "stdout",
     "output_type": "stream",
     "text": [
      "aditya\tgedam \n"
     ]
    }
   ],
   "source": [
    "print(s)"
   ]
  },
  {
   "cell_type": "markdown",
   "id": "73ed64e2-f877-4464-90a1-75620ea4393e",
   "metadata": {},
   "source": [
    "Q.7. Give an example of the following conditions:\n",
    "(i) Homogeneous list\n",
    "(ii) Heterogeneous set\n",
    "(iii) Homogeneous tuple\n"
   ]
  },
  {
   "cell_type": "code",
   "execution_count": 30,
   "id": "77df7e6c-f6e2-439a-a042-6141a6de22c4",
   "metadata": {},
   "outputs": [],
   "source": [
    "l =[1,2,3,4,5,6]"
   ]
  },
  {
   "cell_type": "code",
   "execution_count": 31,
   "id": "7261e055-2c0f-40bc-b035-94039e25a74d",
   "metadata": {},
   "outputs": [],
   "source": [
    "s = {\"tomato\",\"adi\", True , 2 ,2.44}"
   ]
  },
  {
   "cell_type": "code",
   "execution_count": 32,
   "id": "5586575a-c2c8-4630-8bcb-db6363025373",
   "metadata": {},
   "outputs": [],
   "source": [
    "t =  (1,2,3,4,5,6,7)"
   ]
  },
  {
   "cell_type": "markdown",
   "id": "0664aa91-ccff-45b4-a0f3-7e1ed9132916",
   "metadata": {},
   "source": [
    "Q.8. Explain the mutable and immutable data types with proper explanation & examples"
   ]
  },
  {
   "cell_type": "markdown",
   "id": "766e7bc6-d9ea-4496-944b-1a78677e75ea",
   "metadata": {},
   "source": [
    "mutable are the data types list ,dict and set , which means they can be changed where as immutable datatypes are the data types which cannot be changed after object is created "
   ]
  },
  {
   "cell_type": "markdown",
   "id": "dbeeb3a2-1ef6-4df6-83a1-92603fda2144",
   "metadata": {},
   "source": [
    "immutable - int, float, bool, string,tuple \n",
    "\n",
    "mutable  =   list ,dict and set"
   ]
  },
  {
   "cell_type": "code",
   "execution_count": 33,
   "id": "50536cd0-d155-4ce9-9029-f0bfa016dcfc",
   "metadata": {},
   "outputs": [
    {
     "ename": "NameError",
     "evalue": "name 'o' is not defined",
     "output_type": "error",
     "traceback": [
      "\u001b[1;31m---------------------------------------------------------------------------\u001b[0m",
      "\u001b[1;31mNameError\u001b[0m                                 Traceback (most recent call last)",
      "Cell \u001b[1;32mIn[33], line 2\u001b[0m\n\u001b[0;32m      1\u001b[0m s \u001b[38;5;241m=\u001b[39m\u001b[38;5;124m\"\u001b[39m\u001b[38;5;124mmnop\u001b[39m\u001b[38;5;124m\"\u001b[39m\n\u001b[1;32m----> 2\u001b[0m s[\u001b[38;5;241m0\u001b[39m] \u001b[38;5;241m=\u001b[39m \u001b[43mo\u001b[49m\n",
      "\u001b[1;31mNameError\u001b[0m: name 'o' is not defined"
     ]
    }
   ],
   "source": [
    "s =\"mnop\"\n",
    "s[0] = o"
   ]
  },
  {
   "cell_type": "code",
   "execution_count": 34,
   "id": "d3dc3f2d-a63e-45db-81c0-f228f82bec91",
   "metadata": {},
   "outputs": [],
   "source": [
    "list =[1,23,344,4.2]"
   ]
  },
  {
   "cell_type": "code",
   "execution_count": 35,
   "id": "639811c9-35d6-4404-ab8d-ef0c75350e3d",
   "metadata": {},
   "outputs": [],
   "source": [
    "list[0] = 2"
   ]
  },
  {
   "cell_type": "code",
   "execution_count": 36,
   "id": "7720ec47-1ee2-4794-9d39-514de1ba961d",
   "metadata": {},
   "outputs": [
    {
     "data": {
      "text/plain": [
       "[2, 23, 344, 4.2]"
      ]
     },
     "execution_count": 36,
     "metadata": {},
     "output_type": "execute_result"
    }
   ],
   "source": [
    "list"
   ]
  },
  {
   "attachments": {
    "e30b871e-f535-49e3-94ea-e212beecb00a.png": {
     "image/png": "[encoded data removed]"
    }
   },
   "cell_type": "markdown",
   "id": "8f458bd6-e47e-4012-a4a0-80430d60028c",
   "metadata": {},
   "source": [
    "![image.png](attachment:e30b871e-f535-49e3-94ea-e212beecb00a.png)"
   ]
  },
  {
   "cell_type": "code",
   "execution_count": 41,
   "id": "e4e313e4-60ba-401a-849b-66f3788e1d12",
   "metadata": {},
   "outputs": [
    {
     "name": "stdin",
     "output_type": "stream",
     "text": [
      "Enter a number: 7\n"
     ]
    },
    {
     "name": "stdout",
     "output_type": "stream",
     "text": [
      "|||||||||||||\n",
      " |||||||||||\n",
      "  |||||||||\n",
      "   |||||||\n",
      "    |||||\n",
      "     |||\n",
      "      |\n"
     ]
    }
   ],
   "source": [
    "num=int(input(\"Enter a number:\"))\n",
    "for i in range(1,num+1):\n",
    "    print(\" \"*(i-1),end=\"\")\n",
    "    for j in range(1,num+2-i):\n",
    "        print(\"|\",end=\"\")\n",
    "    for k in range(1,num+1-i):\n",
    "        print(\"|\",end=\"\")\n",
    "    print()\n",
    "\"took help of internet \""
   ]
  },
  {
   "cell_type": "code",
   "execution_count": null,
   "id": "02506c1b-1811-4e70-ae56-7c8f89fbb840",
   "metadata": {},
   "outputs": [],
   "source": []
  }
 ],
 "metadata": {
  "kernelspec": {
   "display_name": "Python 3 (ipykernel)",
   "language": "python",
   "name": "python3"
  },
  "language_info": {
   "codemirror_mode": {
    "name": "ipython",
    "version": 3
   },
   "file_extension": ".py",
   "mimetype": "text/x-python",
   "name": "python",
   "nbconvert_exporter": "python",
   "pygments_lexer": "ipython3",
   "version": "3.10.9"
  }
 },
 "nbformat": 4,
 "nbformat_minor": 5
}
